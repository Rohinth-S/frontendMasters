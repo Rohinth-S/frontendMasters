{
 "metadata": {
  "language_info": {
   "codemirror_mode": {
    "name": "ipython",
    "version": 3
   },
   "file_extension": ".py",
   "mimetype": "text/x-python",
   "name": "python",
   "nbconvert_exporter": "python",
   "pygments_lexer": "ipython3",
   "version": "3.7.4-final"
  },
  "orig_nbformat": 2,
  "kernelspec": {
   "name": "python3",
   "display_name": "Python 3.7.4 64-bit (conda)",
   "metadata": {
    "interpreter": {
     "hash": "4e1566e0bd5302e72f34bae43b20a87e30e6b81f21dd952618a4855599f982cb"
    }
   }
  }
 },
 "nbformat": 4,
 "nbformat_minor": 2,
 "cells": [
  {
   "cell_type": "code",
   "execution_count": 1,
   "metadata": {},
   "outputs": [
    {
     "output_type": "stream",
     "name": "stdout",
     "text": [
      "0\n1\n4\n9\n16\n25\n36\n"
     ]
    }
   ],
   "source": [
    "    mygen = (num * num for num in range(7))\n",
    "    for num in mygen:\n",
    "        print(num)"
   ]
  },
  {
   "cell_type": "code",
   "execution_count": 2,
   "metadata": {},
   "outputs": [
    {
     "output_type": "error",
     "ename": "SyntaxError",
     "evalue": "invalid syntax (<ipython-input-2-5755c3037add>, line 1)",
     "traceback": [
      "\u001b[1;36m  File \u001b[1;32m\"<ipython-input-2-5755c3037add>\"\u001b[1;36m, line \u001b[1;32m1\u001b[0m\n\u001b[1;33m    function crossAdd(input) {\u001b[0m\n\u001b[1;37m                    ^\u001b[0m\n\u001b[1;31mSyntaxError\u001b[0m\u001b[1;31m:\u001b[0m invalid syntax\n"
     ]
    }
   ],
   "source": [
    "function crossAdd(input) {\n",
    "    var answer = [];\n",
    "    for (var i = 0; i < input.length; i++) {\n",
    "        var goingUp = input[i];\n",
    "        var goingDown = input[input.length-1-i];\n",
    "        answer.push(goingUp + goingDown);\n",
    "    }\n",
    "    return answer;\n",
    "}\n"
   ]
  }
 ]
}
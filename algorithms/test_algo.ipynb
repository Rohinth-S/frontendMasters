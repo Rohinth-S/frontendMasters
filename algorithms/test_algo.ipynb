{
 "metadata": {
  "language_info": {
   "codemirror_mode": {
    "name": "ipython",
    "version": 3
   },
   "file_extension": ".py",
   "mimetype": "text/x-python",
   "name": "python",
   "nbconvert_exporter": "python",
   "pygments_lexer": "ipython3",
   "version": "3.7.4"
  },
  "orig_nbformat": 2,
  "kernelspec": {
   "name": "python3",
   "display_name": "Python 3",
   "language": "python"
  }
 },
 "nbformat": 4,
 "nbformat_minor": 2,
 "cells": [
  {
   "cell_type": "code",
   "execution_count": 2,
   "metadata": {},
   "outputs": [
    {
     "output_type": "error",
     "ename": "NameError",
     "evalue": "name 'hi' is not defined",
     "traceback": [
      "\u001b[1;31m---------------------------------------------------------------------------\u001b[0m",
      "\u001b[1;31mNameError\u001b[0m                                 Traceback (most recent call last)",
      "\u001b[1;32m<ipython-input-2-55ca6286e3e4>\u001b[0m in \u001b[0;36m<module>\u001b[1;34m\u001b[0m\n\u001b[1;32m----> 1\u001b[1;33m \u001b[0mhi\u001b[0m\u001b[1;33m\u001b[0m\u001b[1;33m\u001b[0m\u001b[0m\n\u001b[0m",
      "\u001b[1;31mNameError\u001b[0m: name 'hi' is not defined"
     ]
    }
   ],
   "source": [
    "# Welcome to workspaces"
   ]
  },
  {
   "cell_type": "code",
   "execution_count": 8,
   "metadata": {},
   "outputs": [
    {
     "output_type": "stream",
     "name": "stdout",
     "text": [
      "None\n"
     ]
    }
   ],
   "source": [
    "def verify(index):\n",
    "    if index is not None:\n",
    "        print(\"Target found at index\",index)\n",
    "    else:\n",
    "        print(\"Target not found in the list\")\n",
    "\n",
    "     \n",
    "numbers = [1,2,3,4,5,6,7,8,9]\n",
    "# result = binary_search(numbers,12)\n",
    "result = binary_search(numbers,6)\n",
    "print(result)"
   ]
  },
  {
   "cell_type": "code",
   "execution_count": 8,
   "metadata": {},
   "outputs": [
    {
     "output_type": "stream",
     "name": "stdout",
     "text": [
      "None\n"
     ]
    }
   ],
   "source": [
    "\"\"\"\n",
    "Returns the position of the elements\n",
    "if found in the list \n",
    "else returns the None value\n",
    "\n",
    "\"\"\"\n",
    "def indexOf(target,list):\n",
    "    return list.index(target)\n",
    "\n",
    "def linear_search(list, target):\n",
    "    if target in list:\n",
    "        return indexOf(target,list)\n",
    "    return None\n",
    "list = [1, 2, 3, 4, 5]\n",
    "print(linear_search(list,9))"
   ]
  },
  {
   "cell_type": "code",
   "execution_count": 6,
   "metadata": {},
   "outputs": [],
   "source": [
    "linear_search(list,7)"
   ]
  },
  {
   "cell_type": "code",
   "execution_count": 10,
   "metadata": {},
   "outputs": [],
   "source": [
    "#  welcome to test binary search"
   ]
  },
  {
   "cell_type": "code",
   "execution_count": 15,
   "metadata": {},
   "outputs": [
    {
     "output_type": "stream",
     "name": "stdout",
     "text": [
      "Target found at index 5\n"
     ]
    }
   ],
   "source": [
    "def binary_search(list, target):\n",
    "    first = 0\n",
    "    last = len(list) - 1\n",
    "    \n",
    "    while first <= last:\n",
    "        midpoint = (first+last) // 2\n",
    "\n",
    "        if list[midpoint] == target:\n",
    "            return midpoint\n",
    "        elif list[midpoint] < target:\n",
    "            first = midpoint + 1\n",
    "        else:\n",
    "            last = midpoint -1\n",
    "    return None\n",
    "\n",
    "\n",
    "     \n",
    "numbers = [1,2,3,4,5,6,7,8,9]\n",
    "# result = binary_search(numbers,12)\n",
    "result = binary_search(numbers,6)\n",
    "\n",
    "def verify(index):\n",
    "    if result is not None:\n",
    "        print(\"Target found at index\",index)\n",
    "    else:\n",
    "        print(\"Target not found in the list\")\n",
    "verify(result)\n",
    "# print(result)\n"
   ]
  }
 ]
}